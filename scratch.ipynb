{
 "cells": [],
 "metadata": {
  "kernelspec": {
   "display_name": "Python 3 (ipykernel)",
   "language": "python",
   "name": "python3"
  },
  "language_info": {
   "codemirror_mode": {
    "name": "ipython",
    "version": 3
   },
   "file_extension": ".py",
   "mimetype": "text/x-python",
   "name": "python",
   "nbconvert_exporter": "python",
   "pygments_lexer": "ipython3",
   "version": "3.7.4"
  },
  "pycharm": {
   "stem_cell": {
    "cell_type": "raw",
    "source": [
     "import pandas as pd\n",
     "import requests\n",
     "import json\n",
     "\n",
     "def get_spot_api_key():\n",
     "    return '0ArVRndOpKVJJGqc5hN7uGHzV34r5vUko'\n",
     "\n",
     "\n",
     "### Get the Location ####\n",
     "def get_spot_location_data(debug=False):\n",
     "    # TODO make the API request to SPOT\n",
     "    baseurl1 = \"https://api.findmespot.com/spot-main-web/consumer/rest-api/2.0/public/feed/\"\n",
     "    baseurl2 = \"/message.json\"\n",
     "    if apitest == True:\n",
     "        url = baseurl1 + get_spot_api_key() + baseurl2\n",
     "        print(url)\n",
     "        r = requests.get(url)\n",
     "        return r\n",
     "\n",
     "\n",
     "apitest = True\n",
     "response = get_spot_location_data()\n",
     "columns_list = ['@clientUnixTime',\n",
     "                   'altitude',\n",
     "                   'batteryState',\n",
     "                   'dateTime',\n",
     "                   'hidden',\n",
     "                   'id',\n",
     "                   'latitude',\n",
     "                   'longitude',\n",
     "                   'messageDetail',\n",
     "                   'messageType',\n",
     "                   'messengerId',\n",
     "                   'messengerName',\n",
     "                   'modelId',\n",
     "                   'showCustomMsg',\n",
     "                   'unixTime'\n",
     "                   ]\n",
     "\n",
     "df_frame = pd.DataFrame(columns = columns_list)\n",
     "message_dict = json.loads(response.content.decode('utf-8'))['response']['feedMessageResponse']['messages']\n",
     "latitude = message_dict['message']['latitude']\n",
     "longitude = message_dict['message']['longitude']\n",
     "a = 'a'\n",
     "df_original = pd.DataFrame.from_dict(response.json()['response'])\n",
     "print(message_dict)\n",
     "#df = pd.DataFrame.from_dict(response.json()['response']['feedMessageResponse']['messages'])\n",
     "#df2 = df.filter(['dateTime', 'latitude', 'longitude', 'unixTime'], axis=1)"
    ],
    "metadata": {
     "collapsed": false
    }
   }
  }
 },
 "nbformat": 4,
 "nbformat_minor": 1
}