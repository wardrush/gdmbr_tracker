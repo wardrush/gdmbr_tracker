{
 "cells": [
  {
   "cell_type": "code",
   "execution_count": 1,
   "metadata": {},
   "outputs": [],
   "source": [
    "### Imports ###\n",
    "import pandas as pd\n",
    "import os\n",
    "import requests\n",
    "import json"
   ]
  },
  {
   "cell_type": "code",
   "execution_count": null,
   "metadata": {},
   "outputs": [],
   "source": [
    "test_response=\"\"\"{\"response\":{\"feedMessageResponse\":{\"count\":2,\"feed\":{\"id\":\"0ArVRndOpKVJJGqc5hN7uGHzV34r5vUko\",\"name\":\"TourDivide\",\"description\":\"TourDivide\",\"status\":\"ACTIVE\",\"usage\":0,\"daysRange\":7,\"detailedMessageShown\":false,\"type\":\"SHARED_PAGE\"},\"totalCount\":2,\"activityCount\":0,\"messages\":{\"message\":[{\"@clientUnixTime\":\"0\",\"id\":1763109015,\"messengerId\":\"0-3777079\",\"messengerName\":\"WardSpotX\",\"unixTime\":1651780324,\"messageType\":\"CUSTOM\",\"latitude\":32.81336,\"longitude\":-96.7731,\"modelId\":\"SPOTXB\",\"showCustomMsg\":\"N\",\"dateTime\":\"2022-05-05T19:52:04+0000\",\"messageDetail\":\"\",\"batteryState\":\"GOOD\",\"hidden\":0,\"messageContent\":\"I have started tracking-follow my progress on my share page.\",\"altitude\":0},{\"@clientUnixTime\":\"0\",\"id\":1763104446,\"messengerId\":\"0-3777079\",\"messengerName\":\"WardSpotX\",\"unixTime\":1651779815,\"messageType\":\"TRACK\",\"latitude\":32.81335,\"longitude\":-96.77307,\"modelId\":\"SPOTXB\",\"showCustomMsg\":\"N\",\"dateTime\":\"2022-05-05T19:43:35+0000\",\"messageDetail\":\"\",\"batteryState\":\"GOOD\",\"hidden\":0,\"altitude\":182}]}}}}\"\"\"\n",
    "test_json = json.loads(test_response)"
   ]
  },
  {
   "cell_type": "code",
   "execution_count": 2,
   "metadata": {},
   "outputs": [
    {
     "name": "stdout",
     "output_type": "stream",
     "text": [
      "https://api.findmespot.com/spot-main-web/consumer/rest-api/2.0/public/feed/0ArVRndOpKVJJGqc5hN7uGHzV34r5vUko/message.json\n"
     ]
    }
   ],
   "source": [
    "apitest=True\n",
    "def get_spot_api_key():\n",
    "    return '0ArVRndOpKVJJGqc5hN7uGHzV34r5vUko'\n",
    "\n",
    "### Get the Location ####\n",
    "def get_spot_location_data(debug=False):\n",
    "    # TODO make the API request to SPOT\n",
    "    baseurl1 = \"https://api.findmespot.com/spot-main-web/consumer/rest-api/2.0/public/feed/\"\n",
    "    baseurl2 = \"/message.json\"\n",
    "    if apitest==True:\n",
    "        url = baseurl1+get_spot_api_key()+baseurl2\n",
    "        print(url)\n",
    "        r = requests.get(url)\n",
    "        return r\n",
    "        \n",
    "response = get_spot_location_data()"
   ]
  },
  {
   "cell_type": "code",
   "execution_count": null,
   "metadata": {},
   "outputs": [],
   "source": [
    "#print(response.content)\n",
    "df = pd.DataFrame.from_dict(test_json)\n",
    "df2 = pd.DataFrame.from_dict(df['response'][0])\n",
    "print(df2.head)\n",
    "#df = pd.json_normalize(test_json)\n",
    "df2.to_csv('testfile3.csv')\n",
    "#print(df.head(10))"
   ]
  },
  {
   "cell_type": "code",
   "execution_count": 3,
   "metadata": {},
   "outputs": [
    {
     "name": "stdout",
     "output_type": "stream",
     "text": [
      "                                  message\n",
      "@clientUnixTime                         0\n",
      "altitude                              182\n",
      "batteryState                         GOOD\n",
      "dateTime         2022-05-05T19:43:35+0000\n",
      "hidden                                  0\n",
      "id                             1763104446\n",
      "latitude                         32.81335\n",
      "longitude                       -96.77307\n",
      "messageDetail                            \n",
      "messageType                         TRACK\n",
      "messengerId                     0-3777079\n",
      "messengerName                   WardSpotX\n",
      "modelId                            SPOTXB\n",
      "showCustomMsg                           N\n",
      "unixTime                       1651779815\n"
     ]
    }
   ],
   "source": [
    "df = pd.DataFrame.from_dict(response.json()['response']['feedMessageResponse']['messages'])\n",
    "#df2 = pd.DataFrame.from_dict(df['messages']['message'])\n",
    "#print(list(df['messages'][8:]))\n",
    "#for indx, item in enumerate(list(df['messages'])):\n",
    "#    print(indx,item, type(item))\n",
    "    \n",
    "#df3 = pd.DataFrame.from_dict(df['messages'])\n",
    "#print(df3.loc['message'][0])\n",
    "#df4 = pd.Series(df3.loc['message'][0])\n",
    "print(df)"
   ]
  },
  {
   "cell_type": "code",
   "execution_count": null,
   "metadata": {},
   "outputs": [],
   "source": [
    "# Parsing the XML file\n",
    "baseurl = \"https://putsreq.com/9Y4cdHTVqPU8amm3DGUa\"\n",
    "r = requests.post(baseurl)\n",
    "\n",
    "# parse into XML tree directly from string\n",
    "df = pd.DataFrame.from_dict(r.json())\n",
    "\n",
    "df.to_csv('testfile.csv')"
   ]
  },
  {
   "cell_type": "code",
   "execution_count": null,
   "metadata": {},
   "outputs": [],
   "source": [
    "cols = ['id',\n",
    "        'messengerId',\n",
    "        'messengerName',\n",
    "        'unixTime',\n",
    "        'messageType',\n",
    "        'latitude',\n",
    "        'longitude',\n",
    "        'modelId',\n",
    "        'showCustomMsg',\n",
    "        'dateTime',\n",
    "        'hidden',\n",
    "        'messageContent',\n",
    "        '_clientUnixTime']\n",
    "\n",
    "rows = []\n",
    "  \n",
    "\n",
    "xmlparse = Xet.parse(r.content)\n",
    "root = xmlparse.getroot()\n",
    "for i in root:\n",
    "    name = i.find(\"id\").text\n",
    "    phone = i.find(\"messengerId\").text\n",
    "    email = i.find(\"messengerName\").text\n",
    "    date = i.find(\"unixTime\").text\n",
    "\n",
    "  \n",
    "    rows.append({\"id\": name,\n",
    "                 \"messengerId\": phone,\n",
    "                 \"messengerName\": email,\n",
    "                 \"unixTime\": date})\n",
    "  \n",
    "df = pd.DataFrame(rows, columns=cols)\n",
    "  \n",
    "# Writing dataframe to csv\n",
    "df.to_csv('output.csv')"
   ]
  },
  {
   "cell_type": "code",
   "execution_count": null,
   "metadata": {
    "collapsed": true
   },
   "outputs": [],
   "source": [
    "### Get the Location ####\n",
    "def get_spot_location_data(debug=False):\n",
    "    # TODO make the API request to SPOT\n",
    "    baseurl = \"https://putsreq.com/9Y4cdHTVqPU8amm3DGUa\"\n",
    "    r = requests.post(baseurl)\n",
    "    # Expect XML return\n",
    "    if debug:\n",
    "        #print(r.text)\n",
    "        df = pd.read_xml(r.text)\n",
    "        df.to_csv('testfile.csv')"
   ]
  }
 ],
 "metadata": {
  "kernelspec": {
   "display_name": "Python 3 (ipykernel)",
   "language": "python",
   "name": "python3"
  },
  "language_info": {
   "codemirror_mode": {
    "name": "ipython",
    "version": 3
   },
   "file_extension": ".py",
   "mimetype": "text/x-python",
   "name": "python",
   "nbconvert_exporter": "python",
   "pygments_lexer": "ipython3",
   "version": "3.7.4"
  }
 },
 "nbformat": 4,
 "nbformat_minor": 1
}
